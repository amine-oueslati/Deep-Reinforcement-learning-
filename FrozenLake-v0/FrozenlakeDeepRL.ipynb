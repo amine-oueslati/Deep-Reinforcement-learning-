{
  "nbformat": 4,
  "nbformat_minor": 0,
  "metadata": {
    "colab": {
      "name": "Frozen lake Deep RL",
      "provenance": [],
      "collapsed_sections": [],
      "toc_visible": true
    },
    "kernelspec": {
      "display_name": "Python 3",
      "name": "python3"
    },
    "accelerator": "GPU"
  },
  "cells": [
    {
      "cell_type": "markdown",
      "metadata": {
        "id": "3L-ToLvNXY4k"
      },
      "source": [
        "# Deep RL Project\n",
        "\n"
      ]
    },
    {
      "cell_type": "code",
      "metadata": {
        "id": "yWxWj8j0hCj3"
      },
      "source": [
        "%tensorflow_version 1.x"
      ],
      "execution_count": null,
      "outputs": []
    },
    {
      "cell_type": "code",
      "metadata": {
        "id": "TXuZ98e8Xb_O"
      },
      "source": [
        "\n",
        "import gym\n",
        "import random\n",
        "import numpy as np\n",
        "import time\n",
        "from gym.envs.registration import register\n",
        "from IPython.display import clear_output\n",
        "import tensorflow as tf\n",
        "import matplotlib.pyplot as plt\n"
      ],
      "execution_count": 2,
      "outputs": []
    },
    {
      "cell_type": "markdown",
      "metadata": {
        "id": "U72rIxw4c2sY"
      },
      "source": [
        "# Initialising the environment\n"
      ]
    },
    {
      "cell_type": "code",
      "metadata": {
        "colab": {
          "base_uri": "https://localhost:8080/"
        },
        "id": "sYf0YKHxa0wr",
        "outputId": "570fc23d-b90c-4f6a-b180-8b3e565f4839"
      },
      "source": [
        "env_name = 'FrozenLake-v0'\n",
        "env = gym.make(env_name)\n",
        "\n",
        "print(\"observation space: \", env.observation_space)\n",
        "print(\"action space: \", env.action_space)"
      ],
      "execution_count": 4,
      "outputs": [
        {
          "output_type": "stream",
          "text": [
            "observation space:  Discrete(16)\n",
            "action space:  Discrete(4)\n"
          ],
          "name": "stdout"
        }
      ]
    },
    {
      "cell_type": "markdown",
      "metadata": {
        "id": "WW7-gbr1dBqc"
      },
      "source": [
        "# Defining a random agent\n"
      ]
    },
    {
      "cell_type": "code",
      "metadata": {
        "id": "DOOq04PXa3az"
      },
      "source": [
        "class Agent():\n",
        "\n",
        "  def __init__(self, env):\n",
        "    self.is_discrete = type(env.action_space) == gym.spaces.discrete.Discrete\n",
        "\n",
        "    if self.is_discrete:\n",
        "      self.action_size = env.action_space.n\n",
        "      print(\"Action size: \", self.action_size)\n",
        "    else:\n",
        "      self.action_low = env.action_space.low\n",
        "      self.action_high = env.action_space.high\n",
        "      self.action_shape = env.action_space.shape\n",
        "      print(\"Action range: \", self.action_low, self.action_high)\n",
        "\n",
        "\n",
        "  def get_action(self, state):\n",
        "    if self.is_discrete:\n",
        "      action = random.choice(range(self.action_size))\n",
        "    else:\n",
        "      action = np.random.uniform(self.action_low, self.action_high, self.action_shape)\n",
        "\n",
        "    return action\n",
        "\n",
        "    "
      ],
      "execution_count": 5,
      "outputs": []
    },
    {
      "cell_type": "markdown",
      "metadata": {
        "id": "2dbPBOVyj9MM"
      },
      "source": [
        "# Defining a Q-learning agent"
      ]
    },
    {
      "cell_type": "code",
      "metadata": {
        "id": "P0_vp6Txa53n"
      },
      "source": [
        "class QlAgent(Agent):\n",
        "  def __init__(self, env,discount_rate= 0.9, learning_rate= 0.01):\n",
        "    super().__init__(env)\n",
        "    self.state_size = env.observation_space.n\n",
        "    print(\"State size: \", self.state_size)\n",
        "\n",
        "    self.eps = 1.0\n",
        "    self.discount_rate = discount_rate\n",
        "    self.learning_rate = learning_rate\n",
        "    self.build_model()\n",
        "\n",
        "  def build_model(self):\n",
        "    self.q_table = 1e-4 * np.random.random([self.state_size, self.action_size])\n",
        "\n",
        "\n",
        "  def get_action(self, state):\n",
        "    q_state = self.q_table[state]\n",
        "    greedy_action = np.argmax(q_state)\n",
        "    random_action = super().get_action(state)\n",
        "    return random_action if random.random() < self.eps else greedy_action\n",
        "\n",
        "  \n",
        "  def train(self, experience):\n",
        "    state, action, next_state ,reward, done = experience\n",
        "\n",
        "    q_next = self.q_table[next_state]\n",
        "    q_next = np.zeros([self.action_size]) if done else q_next\n",
        "    q_target = reward + self.discount_rate*np.max(q_next)\n",
        "    \n",
        "    q_update = q_target - self.q_table[state, action]\n",
        "    self.q_table[state, action] += self.learning_rate * q_update\n",
        "\n",
        "    if done:\n",
        "      self.eps = self.eps * 0.99\n",
        "\n",
        "\n",
        "agent = QlAgent(env)"
      ],
      "execution_count": null,
      "outputs": []
    },
    {
      "cell_type": "markdown",
      "metadata": {
        "id": "92NzRy8ILMxp"
      },
      "source": [
        "## Training"
      ]
    },
    {
      "cell_type": "code",
      "metadata": {
        "id": "BjG_nJHta8mP"
      },
      "source": [
        "rewards_his=[]\n",
        "total_reward = 0\n",
        "for episode in range(1000):\n",
        "  state = env.reset()\n",
        "  done = False\n",
        "  while not done:\n",
        "    action = agent.get_action(state)\n",
        "    next_state, reward, done, info = env.step(action)\n",
        "    agent.train((state, action, next_state, reward, done))\n",
        "    state = next_state\n",
        "    total_reward += reward\n",
        "\n",
        "    print('s: ', state, 'a: ', action)\n",
        "    print('episode: {}, total reward:{}, epsilon: {}'.format(episode, total_reward,agent.eps))\n",
        "\n",
        "    env.render()\n",
        "    \n",
        "\n",
        "    print(agent.q_table)\n",
        "    #time.sleep(0.05)\n",
        "    clear_output(wait=True)\n",
        "  rewards_his.append(total_reward)\n"
      ],
      "execution_count": null,
      "outputs": []
    },
    {
      "cell_type": "code",
      "metadata": {
        "id": "v6n3ERgHFNfJ"
      },
      "source": [
        "plt.figure(figsize=(15, 10))\n",
        "plt.plot(rewards_his)\n",
        "plt.ylabel('total rewards')\n",
        "plt.show()\n",
        "\n",
        "print(np.mean(rewards_his))"
      ],
      "execution_count": null,
      "outputs": []
    },
    {
      "cell_type": "markdown",
      "metadata": {
        "id": "wO-uHKdZoZXC"
      },
      "source": [
        "# QLearning with NN\n"
      ]
    },
    {
      "cell_type": "code",
      "metadata": {
        "id": "zH4Ky0cSocQA"
      },
      "source": [
        "eds= [0.97, 0.9, 0.8, 0.99]\n",
        "r = []\n",
        "for ed in eds:\n",
        "  class QlNNAgent(Agent):\n",
        "    def __init__(self, env,discount_rate= 0.99, learning_rate= 0.01):\n",
        "      super().__init__(env)\n",
        "      self.state_size = env.observation_space.n\n",
        "      print(\"State size: \", self.state_size)\n",
        "\n",
        "      self.eps = 1.0\n",
        "      self.discount_rate = discount_rate\n",
        "      self.learning_rate = learning_rate\n",
        "      self.build_model()\n",
        "\n",
        "      self.session = tf.Session()\n",
        "      self.session.run(tf.global_variables_initializer())\n",
        "\n",
        "\n",
        "    def build_model(self):\n",
        "      tf.reset_default_graph()\n",
        "\n",
        "      #ops.reset_default_graph()\n",
        "\n",
        "      self.state_in = tf.placeholder(tf.int32, shape=[1])\n",
        "      self.action_in = tf.placeholder(tf.int32, shape=[1])\n",
        "      self.target_in = tf.placeholder(tf.float32, shape=[1])\n",
        "\n",
        "      self.state = tf.one_hot(self.state_in, depth= self.state_size)\n",
        "      self.action = tf.one_hot(self.action_in, depth= self.action_size)\n",
        "\n",
        "      \n",
        "      self.q_state = tf.layers.dense(self.state, units=self.action_size, name= 'q_table')\n",
        "      self.q_action = tf.reduce_sum(tf.multiply(self.q_state, self.action), axis=1)\n",
        "\n",
        "      self.loss = tf.reduce_sum(tf.square(self.target_in - self.q_action))\n",
        "      self.optimizer = tf.train.AdamOptimizer(self.learning_rate).minimize(self.loss)\n",
        "\n",
        "\n",
        "\n",
        "    def get_action(self, state):\n",
        "      q_state = self.session.run(self.q_state, feed_dict={self.state_in:[state]})\n",
        "      greedy_action = np.argmax(q_state)\n",
        "      random_action = super().get_action(state)\n",
        "      return random_action if random.random() < self.eps else greedy_action\n",
        "\n",
        "    \n",
        "    def train(self, experience):\n",
        "      state, action, next_state ,reward, done = ([exp] for exp in experience)\n",
        "\n",
        "      q_next = self.session.run(self.q_state, feed_dict={self.state_in: next_state})\n",
        "      q_next[done] = np.zeros([self.action_size]) \n",
        "      q_target = reward + self.discount_rate*np.max(q_next)\n",
        "      \n",
        "      feed = {self.state_in: state, self.action_in: action, self.target_in: q_target}\n",
        "\n",
        "      self.session.run(self.optimizer, feed_dict=feed)\n",
        "\n",
        "      if experience[4]:\n",
        "        self.eps = max(0.0001, self.eps * ed)\n",
        "\n",
        "    def __del__(self):\n",
        "      self.session.close()\n",
        "\n",
        "  agent = QlNNAgent(env)\n",
        "\n",
        "\n",
        "\n",
        "  total_reward = 0\n",
        "  rewards_his=[]\n",
        "  for episode in range(1000):\n",
        "    state = env.reset()\n",
        "    done = False\n",
        "    while not done:\n",
        "      action = agent.get_action(state)\n",
        "      next_state, reward, done, info = env.step(action)\n",
        "      agent.train((state, action, next_state, reward, done))\n",
        "      state = next_state\n",
        "      total_reward += reward\n",
        "\n",
        "      print('s: ', state, 'a: ', action)\n",
        "      print('episode: {}, total reward:{}, epsilon: {}'.format(episode, total_reward,agent.eps))\n",
        "\n",
        "      env.render()\n",
        "      with tf.variable_scope('q_table', reuse=True):\n",
        "        weights = agent.session.run(tf.get_variable(\"kernel\"))\n",
        "        print(weights)\n",
        "    \n",
        "      #time.sleep(0.05)\n",
        "      clear_output(wait=True)\n",
        "    rewards_his.append(total_reward) \n",
        "  r.append(rewards_his) \n",
        "  "
      ],
      "execution_count": null,
      "outputs": []
    },
    {
      "cell_type": "code",
      "metadata": {
        "id": "Pe4Gqg8-pNzZ"
      },
      "source": [
        "import matplotlib.pyplot as plt\n",
        "plt.figure(figsize=(15, 10))\n",
        "\n",
        "for n, ep_rewards in enumerate(r):\n",
        "    x = range(len(ep_rewards))\n",
        "    \n",
        "    plt.plot(x, ep_rewards, label=eds[n])\n",
        "\n",
        "plt.xlabel(\"Episode\")\n",
        "plt.ylabel(\"rewards\")\n",
        "\n",
        "plt.legend()"
      ],
      "execution_count": null,
      "outputs": []
    },
    {
      "cell_type": "code",
      "metadata": {
        "id": "4EwvZGtnqXpY"
      },
      "source": [
        ""
      ],
      "execution_count": null,
      "outputs": []
    }
  ]
}
